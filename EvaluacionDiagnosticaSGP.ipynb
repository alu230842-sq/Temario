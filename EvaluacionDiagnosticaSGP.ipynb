{
  "nbformat": 4,
  "nbformat_minor": 0,
  "metadata": {
    "colab": {
      "provenance": [],
      "authorship_tag": "ABX9TyPsfCfZU8P31Nd13p89p/Iy",
      "include_colab_link": true
    },
    "kernelspec": {
      "name": "python3",
      "display_name": "Python 3"
    },
    "language_info": {
      "name": "python"
    }
  },
  "cells": [
    {
      "cell_type": "markdown",
      "metadata": {
        "id": "view-in-github",
        "colab_type": "text"
      },
      "source": [
        "<a href=\"https://colab.research.google.com/github/alu230842-sq/Temario/blob/main/EvaluacionDiagnosticaSGP.ipynb\" target=\"_parent\"><img src=\"https://colab.research.google.com/assets/colab-badge.svg\" alt=\"Open In Colab\"/></a>"
      ]
    },
    {
      "cell_type": "code",
      "execution_count": null,
      "metadata": {
        "id": "kH-DbXUHz5-m"
      },
      "outputs": [],
      "source": [
        "Practica Diagnostica"
      ]
    },
    {
      "cell_type": "markdown",
      "source": [
        "Imprimir nombre, paterno y materno de Alumno"
      ],
      "metadata": {
        "id": "TwsuEJo20TbO"
      }
    },
    {
      "cell_type": "code",
      "source": [
        "print (\"Codigo 1\")\n",
        "nombrep=(input(\"Captura tu nombre paterno: \"))\n",
        "nombrem=(input(\"Captura tu nombre materno: \"))\n",
        "apellidop=(input(\"Captura tu apellido paterno: \"))\n",
        "apellidom=(input(\"Captura tu apellido materno: \"))\n",
        "print (nombrep + \" \" + nombrem + \" \" + apellidop + \" \" + apellidom)\n"
      ],
      "metadata": {
        "colab": {
          "base_uri": "https://localhost:8080/"
        },
        "id": "6khqmhc10X-X",
        "outputId": "5af5f396-9069-4640-bc2f-b3f800945593"
      },
      "execution_count": 1,
      "outputs": [
        {
          "output_type": "stream",
          "name": "stdout",
          "text": [
            "Codigo 1\n",
            "Captura tu nombre paterno: marco\n",
            "Captura tu nombre materno: antonio\n",
            "Captura tu apellido paterno: marquez\n",
            "Captura tu apellido materno: cruz\n",
            "marco antonio marquez cruz\n"
          ]
        }
      ]
    },
    {
      "cell_type": "markdown",
      "source": [
        "Codigo 2 - Capturar 2 números decimales e imprimir Suma"
      ],
      "metadata": {
        "id": "tg3ANH7E1mus"
      }
    },
    {
      "cell_type": "code",
      "source": [
        "print (\"Codigo 2\")\n",
        "num1=(float(input(\"Captura tu primer numero: \")))\n",
        "num2=(float(input(\"Captura tu segundo numero: \")))\n",
        "sum = num1 + num2\n",
        "print (\"Resultados\")\n",
        "print (\"Suma: \", sum)"
      ],
      "metadata": {
        "colab": {
          "base_uri": "https://localhost:8080/"
        },
        "id": "2QnbfVdk1x2t",
        "outputId": "38bab75e-9821-4891-fff4-fc4ce96fd1b0"
      },
      "execution_count": 6,
      "outputs": [
        {
          "output_type": "stream",
          "name": "stdout",
          "text": [
            "Codigo 2\n",
            "Captura tu primer numero: 2.5\n",
            "Captura tu segundo numero: 2.5\n",
            "Resultados\n",
            "Suma:  5.0\n"
          ]
        }
      ]
    },
    {
      "cell_type": "markdown",
      "source": [
        "Codigo 3 - Calcular el área de un círculo"
      ],
      "metadata": {
        "id": "sAPJv_H83BxB"
      }
    },
    {
      "cell_type": "code",
      "source": [
        "print (\"Codigo 3\")\n",
        "num1=(float(input(\"Captura el radio del circulo: \")))\n",
        "area = (3.1416 * num1) * num1\n",
        "print (\"Resultados\")\n",
        "print (\"Area del circulo: \", area)"
      ],
      "metadata": {
        "colab": {
          "base_uri": "https://localhost:8080/"
        },
        "id": "QN8C3SPW3EXZ",
        "outputId": "573f9ded-1635-4f80-8c72-f18cf95a20e0"
      },
      "execution_count": 5,
      "outputs": [
        {
          "output_type": "stream",
          "name": "stdout",
          "text": [
            "Codigo 3\n",
            "Captura el radio del circulo: 5\n",
            "Resultados\n",
            "Area del circulo:  78.54\n"
          ]
        }
      ]
    },
    {
      "cell_type": "markdown",
      "source": [
        "Codigo 4 - Ejemplo de código y ventana resultante de semestre pasado."
      ],
      "metadata": {
        "id": "7ylCqc8z4-uv"
      }
    },
    {
      "cell_type": "code",
      "source": [
        "print (\"Codigo 4 - Promedio de Calificaciones\")\n",
        "cal1=(float(input(\"Captura tu primer calificacion: \")))\n",
        "cal2=(float(input(\"Captura tu segunda calificacion: \")))\n",
        "cal3=(float(input(\"Captura tu tercera calificacion: \")))\n",
        "op = (cal1 + cal2 + cal3) / 3\n",
        "print (\"Resultados\")\n",
        "print (\"Tu promedio es: \", op)\n"
      ],
      "metadata": {
        "colab": {
          "base_uri": "https://localhost:8080/"
        },
        "id": "PSaxdQZE5HIV",
        "outputId": "69895ebf-55be-4d3c-f39c-37a07389407e"
      },
      "execution_count": 4,
      "outputs": [
        {
          "output_type": "stream",
          "name": "stdout",
          "text": [
            "Codigo 4 - Promedio de Calificaciones\n",
            "Captura tu primer calificacion: 9\n",
            "Captura tu segunda calificacion: 8\n",
            "Captura tu tercera calificacion: 10\n",
            "Resultados\n",
            "Tu promedio es:  9.0\n"
          ]
        }
      ]
    }
  ]
}